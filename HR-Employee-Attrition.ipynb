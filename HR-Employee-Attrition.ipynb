{
 "cells": [
  {
   "cell_type": "code",
   "execution_count": 23,
   "metadata": {
    "collapsed": true
   },
   "outputs": [],
   "source": [
    "import warnings\n",
    "warnings.filterwarnings('ignore')"
   ]
  },
  {
   "cell_type": "code",
   "execution_count": 24,
   "metadata": {
    "collapsed": true
   },
   "outputs": [],
   "source": [
    "import pandas as pd\n",
    "from sklearn.model_selection import train_test_split\n",
    "from sklearn.decomposition import PCA\n",
    "from sklearn.preprocessing import StandardScaler\n",
    "import matplotlib.pyplot as plt\n",
    "import numpy as np\n",
    "from sklearn.utils import resample\n",
    "from sklearn.decomposition import PCA\n",
    "from sklearn.pipeline import make_pipeline\n",
    "from sklearn.ensemble import RandomForestClassifier\n",
    "from sklearn.grid_search import GridSearchCV\n",
    "from sklearn.ensemble import RandomForestClassifier\n",
    "from sklearn.datasets import make_classification\n",
    "from sklearn.metrics import confusion_matrix\n",
    "from sklearn.ensemble import RandomForestClassifier\n",
    "from sklearn.datasets import make_classification\n",
    "from sklearn.metrics import confusion_matrix\n",
    "import seaborn as sn\n",
    "from sklearn.ensemble import GradientBoostingClassifier\n",
    "from sklearn.neighbors import KNeighborsClassifier\n",
    "from sklearn.metrics import roc_curve, auc\n",
    "from sklearn.linear_model import LogisticRegression\n",
    "from sklearn.metrics import roc_curve, auc\n",
    "from numpy.testing import assert_warns\n",
    "from sklearn.exceptions import UndefinedMetricWarning\n",
    "from sklearn.pipeline import make_pipeline\n",
    "from sklearn.svm import SVC\n",
    "from sklearn.model_selection import cross_val_score\n",
    "%matplotlib inline\n"
   ]
  },
  {
   "cell_type": "code",
   "execution_count": 3,
   "metadata": {},
   "outputs": [
    {
     "name": "stdout",
     "output_type": "stream",
     "text": [
      "(1470, 25)\n",
      "\u001b[1m\u001b[94mData Types:\n",
      "-----------\n",
      "\u001b[30mAttrition                   object\n",
      "Gender                      object\n",
      "MaritalStatus               object\n",
      "BusinessTravel              object\n",
      "OverTime                    object\n",
      "Department                  object\n",
      "Age                          int64\n",
      "DistanceFromHome             int64\n",
      "EnvironmentSatisfaction      int64\n",
      "JobInvolvement               int64\n",
      "JobLevel                     int64\n",
      "JobSatisfaction              int64\n",
      "MonthlyIncome                int64\n",
      "NumCompaniesWorked           int64\n",
      "PercentSalaryHike            int64\n",
      "PerformanceRating            int64\n",
      "RelationshipSatisfaction     int64\n",
      "StockOptionLevel             int64\n",
      "TotalWorkingYears            int64\n",
      "TrainingTimesLastYear        int64\n",
      "WorkLifeBalance              int64\n",
      "YearsAtCompany               int64\n",
      "YearsInCurrentRole           int64\n",
      "YearsSinceLastPromotion      int64\n",
      "YearsWithCurrManager         int64\n",
      "dtype: object\n",
      "\n",
      "\u001b[1m\u001b[94mSum of null values in each column: \n",
      "-----------------------------------\n",
      "\u001b[30mAttrition                   0\n",
      "Gender                      0\n",
      "MaritalStatus               0\n",
      "BusinessTravel              0\n",
      "OverTime                    0\n",
      "Department                  0\n",
      "Age                         0\n",
      "DistanceFromHome            0\n",
      "EnvironmentSatisfaction     0\n",
      "JobInvolvement              0\n",
      "JobLevel                    0\n",
      "JobSatisfaction             0\n",
      "MonthlyIncome               0\n",
      "NumCompaniesWorked          0\n",
      "PercentSalaryHike           0\n",
      "PerformanceRating           0\n",
      "RelationshipSatisfaction    0\n",
      "StockOptionLevel            0\n",
      "TotalWorkingYears           0\n",
      "TrainingTimesLastYear       0\n",
      "WorkLifeBalance             0\n",
      "YearsAtCompany              0\n",
      "YearsInCurrentRole          0\n",
      "YearsSinceLastPromotion     0\n",
      "YearsWithCurrManager        0\n",
      "dtype: int64\n"
     ]
    },
    {
     "data": {
      "text/html": [
       "<div>\n",
       "<style>\n",
       "    .dataframe thead tr:only-child th {\n",
       "        text-align: right;\n",
       "    }\n",
       "\n",
       "    .dataframe thead th {\n",
       "        text-align: left;\n",
       "    }\n",
       "\n",
       "    .dataframe tbody tr th {\n",
       "        vertical-align: top;\n",
       "    }\n",
       "</style>\n",
       "<table border=\"1\" class=\"dataframe\">\n",
       "  <thead>\n",
       "    <tr style=\"text-align: right;\">\n",
       "      <th></th>\n",
       "      <th>Attrition</th>\n",
       "      <th>Gender</th>\n",
       "      <th>MaritalStatus</th>\n",
       "      <th>BusinessTravel</th>\n",
       "      <th>OverTime</th>\n",
       "      <th>Department</th>\n",
       "      <th>Age</th>\n",
       "      <th>DistanceFromHome</th>\n",
       "      <th>EnvironmentSatisfaction</th>\n",
       "      <th>JobInvolvement</th>\n",
       "      <th>...</th>\n",
       "      <th>PerformanceRating</th>\n",
       "      <th>RelationshipSatisfaction</th>\n",
       "      <th>StockOptionLevel</th>\n",
       "      <th>TotalWorkingYears</th>\n",
       "      <th>TrainingTimesLastYear</th>\n",
       "      <th>WorkLifeBalance</th>\n",
       "      <th>YearsAtCompany</th>\n",
       "      <th>YearsInCurrentRole</th>\n",
       "      <th>YearsSinceLastPromotion</th>\n",
       "      <th>YearsWithCurrManager</th>\n",
       "    </tr>\n",
       "  </thead>\n",
       "  <tbody>\n",
       "    <tr>\n",
       "      <th>0</th>\n",
       "      <td>Yes</td>\n",
       "      <td>Female</td>\n",
       "      <td>Single</td>\n",
       "      <td>Travel_Rarely</td>\n",
       "      <td>Yes</td>\n",
       "      <td>Sales</td>\n",
       "      <td>41</td>\n",
       "      <td>1</td>\n",
       "      <td>2</td>\n",
       "      <td>3</td>\n",
       "      <td>...</td>\n",
       "      <td>3</td>\n",
       "      <td>1</td>\n",
       "      <td>0</td>\n",
       "      <td>8</td>\n",
       "      <td>0</td>\n",
       "      <td>1</td>\n",
       "      <td>6</td>\n",
       "      <td>4</td>\n",
       "      <td>0</td>\n",
       "      <td>5</td>\n",
       "    </tr>\n",
       "    <tr>\n",
       "      <th>1</th>\n",
       "      <td>No</td>\n",
       "      <td>Male</td>\n",
       "      <td>Married</td>\n",
       "      <td>Travel_Frequently</td>\n",
       "      <td>No</td>\n",
       "      <td>Research &amp; Development</td>\n",
       "      <td>49</td>\n",
       "      <td>8</td>\n",
       "      <td>3</td>\n",
       "      <td>2</td>\n",
       "      <td>...</td>\n",
       "      <td>4</td>\n",
       "      <td>4</td>\n",
       "      <td>1</td>\n",
       "      <td>10</td>\n",
       "      <td>3</td>\n",
       "      <td>3</td>\n",
       "      <td>10</td>\n",
       "      <td>7</td>\n",
       "      <td>1</td>\n",
       "      <td>7</td>\n",
       "    </tr>\n",
       "    <tr>\n",
       "      <th>2</th>\n",
       "      <td>Yes</td>\n",
       "      <td>Male</td>\n",
       "      <td>Single</td>\n",
       "      <td>Travel_Rarely</td>\n",
       "      <td>Yes</td>\n",
       "      <td>Research &amp; Development</td>\n",
       "      <td>37</td>\n",
       "      <td>2</td>\n",
       "      <td>4</td>\n",
       "      <td>2</td>\n",
       "      <td>...</td>\n",
       "      <td>3</td>\n",
       "      <td>2</td>\n",
       "      <td>0</td>\n",
       "      <td>7</td>\n",
       "      <td>3</td>\n",
       "      <td>3</td>\n",
       "      <td>0</td>\n",
       "      <td>0</td>\n",
       "      <td>0</td>\n",
       "      <td>0</td>\n",
       "    </tr>\n",
       "  </tbody>\n",
       "</table>\n",
       "<p>3 rows × 25 columns</p>\n",
       "</div>"
      ],
      "text/plain": [
       "  Attrition  Gender MaritalStatus     BusinessTravel OverTime  \\\n",
       "0       Yes  Female        Single      Travel_Rarely      Yes   \n",
       "1        No    Male       Married  Travel_Frequently       No   \n",
       "2       Yes    Male        Single      Travel_Rarely      Yes   \n",
       "\n",
       "               Department  Age  DistanceFromHome  EnvironmentSatisfaction  \\\n",
       "0                   Sales   41                 1                        2   \n",
       "1  Research & Development   49                 8                        3   \n",
       "2  Research & Development   37                 2                        4   \n",
       "\n",
       "   JobInvolvement          ...           PerformanceRating  \\\n",
       "0               3          ...                           3   \n",
       "1               2          ...                           4   \n",
       "2               2          ...                           3   \n",
       "\n",
       "   RelationshipSatisfaction  StockOptionLevel  TotalWorkingYears  \\\n",
       "0                         1                 0                  8   \n",
       "1                         4                 1                 10   \n",
       "2                         2                 0                  7   \n",
       "\n",
       "   TrainingTimesLastYear  WorkLifeBalance  YearsAtCompany  YearsInCurrentRole  \\\n",
       "0                      0                1               6                   4   \n",
       "1                      3                3              10                   7   \n",
       "2                      3                3               0                   0   \n",
       "\n",
       "   YearsSinceLastPromotion  YearsWithCurrManager  \n",
       "0                        0                     5  \n",
       "1                        1                     7  \n",
       "2                        0                     0  \n",
       "\n",
       "[3 rows x 25 columns]"
      ]
     },
     "execution_count": 3,
     "metadata": {},
     "output_type": "execute_result"
    }
   ],
   "source": [
    "df = pd.read_csv(\"HR-Employee-Attrition.csv\")\n",
    "print(df.shape)\n",
    "#check datatype \n",
    "print(\"\\033[1m\" + \"\\033[94m\" + \"Data Types:\\n\" + 11*\"-\")\n",
    "print(\"\\033[30m\" + \"{}\\n\".format(df.dtypes))\n",
    "\n",
    "#check missing values\n",
    "print(\"\\033[1m\" + \"\\033[94m\" + \"Sum of null values in each column: \\n\" + 35*\"-\")\n",
    "print(\"\\033[30m\" + \"{}\".format(df.isnull().sum()))\n",
    "\n",
    "#see what data looks like\n",
    "df.head(3)"
   ]
  },
  {
   "cell_type": "code",
   "execution_count": 4,
   "metadata": {},
   "outputs": [],
   "source": [
    "#Data Pre-Processing\n",
    "def attrition_recode(series):\n",
    "    if series == \"Yes\":\n",
    "        return 1\n",
    "    elif series == \"No\":\n",
    "        return 0\n",
    "df['Attrition'] = df['Attrition'].apply(attrition_recode)\n",
    "\n",
    "def gender_recode(series):\n",
    "    if series == \"Male\":\n",
    "        return 1\n",
    "    elif series == \"Female\":\n",
    "        return 0\n",
    "df['Gender'] = df['Gender'].apply(gender_recode)\n",
    "\n",
    "#MaritalStatus \n",
    "def marital_recode(series):\n",
    "    if series == \"Single\":\n",
    "        return 1\n",
    "    elif series == \"Married\":\n",
    "        return 2\n",
    "    elif series == \"Divorced\":\n",
    "        return 3\n",
    "df['MaritalStatus'] = df['MaritalStatus'].apply(marital_recode)\n",
    "\n",
    "# Business Travel: change to ordinal categotical feature\n",
    "bus_travel_map = {\"Non-Travel\":0, \"Travel_Rarely\":1, \"Travel_Frequently\":2}\n",
    "df[\"BusinessTravel\"] = df[\"BusinessTravel\"].map(bus_travel_map)\n",
    "\n",
    "def overtime_recode(series):\n",
    "    if series == \"Yes\":\n",
    "        return 1\n",
    "    elif series == \"No\":\n",
    "        return 0\n",
    "df['OverTime'] = df['OverTime'].apply(overtime_recode)\n",
    "\n",
    "#. create dummy variables for \"Department\" feature\n",
    "df = pd.get_dummies(df, columns = [\"Department\"], drop_first = True)\n"
   ]
  },
  {
   "cell_type": "code",
   "execution_count": 5,
   "metadata": {},
   "outputs": [
    {
     "name": "stdout",
     "output_type": "stream",
     "text": [
      "Positive Examples = 237\n",
      "Negative Example = 1233\n",
      "Proportion of Positive to Negaive Examples = 19.22%\n"
     ]
    }
   ],
   "source": [
    "#check balance\n",
    "pos = df[df[\"Attrition\"] == 1].shape[0]\n",
    "neg = df[df[\"Attrition\"] == 0].shape[0]\n",
    "print(\"Positive Examples = {}\".format(pos))\n",
    "print(\"Negative Example = {}\".format(neg))\n",
    "print(\"Proportion of Positive to Negaive Examples = {:.2f}%\".format((pos/neg)*100))"
   ]
  },
  {
   "cell_type": "code",
   "execution_count": 6,
   "metadata": {
    "collapsed": true
   },
   "outputs": [],
   "source": [
    "X = df.loc[:, df.columns != \"Attrition\"].values\n",
    "y = df.loc[:, df.columns == \"Attrition\"].values.flatten()\n",
    "X_train, X_test, y_train, y_test = train_test_split(X, y, test_size = 0.2, stratify = y, random_state = 1)"
   ]
  },
  {
   "cell_type": "code",
   "execution_count": 7,
   "metadata": {},
   "outputs": [
    {
     "name": "stdout",
     "output_type": "stream",
     "text": [
      "Original shape: (1176, 25) (1176,)\n",
      "Upsampled shape: (1972, 25) (1972,)\n",
      "Downsampled shape: (380, 25) (380,)\n"
     ]
    }
   ],
   "source": [
    "from sklearn.utils import resample\n",
    "\n",
    "#Upsample minority class\n",
    "X_train_u, y_train_u = resample(X_train[y_train == 1],\n",
    "                               y_train[y_train == 1],\n",
    "                               replace = True, # sample with replacement\n",
    "                               n_samples = X_train[y_train == 0].shape[0], # to match majority class\n",
    "                               random_state = 1)\n",
    "X_train_u = np.concatenate((X_train[y_train == 0], X_train_u))\n",
    "y_train_u = np.concatenate((y_train[y_train == 0], y_train_u))\n",
    "\n",
    "#Downsample majority class\n",
    "X_train_d, y_train_d = resample(X_train[y_train == 0],\n",
    "                               y_train[y_train == 0],\n",
    "                               replace = True, # sample with replacement\n",
    "                               n_samples = X_train[y_train == 1].shape[0], # to match majority class\n",
    "                               random_state = 1)\n",
    "X_train_d = np.concatenate((X_train[y_train == 1], X_train_d))\n",
    "y_train_d = np.concatenate((y_train[y_train == 1], y_train_d))\n",
    "\n",
    "print(\"Original shape:\", X_train.shape, y_train.shape)\n",
    "print(\"Upsampled shape:\", X_train_u.shape, y_train_u.shape)\n",
    "print(\"Downsampled shape:\", X_train_d.shape, y_train_d.shape)"
   ]
  },
  {
   "cell_type": "code",
   "execution_count": 8,
   "metadata": {},
   "outputs": [
    {
     "data": {
      "text/plain": [
       "Text(0.5,1,'PCA on Training Data')"
      ]
     },
     "execution_count": 8,
     "metadata": {},
     "output_type": "execute_result"
    },
    {
     "data": {
      "image/png": "[encoded data removed]",
      "text/plain": [
       "<matplotlib.figure.Figure at 0x10b95f588>"
      ]
     },
     "metadata": {},
     "output_type": "display_data"
    }
   ],
   "source": [
    "from sklearn.decomposition import PCA\n",
    "\n",
    "#to see how many principal components needed to explain 90%, 95% and 99% of the variation\n",
    "pca = PCA(n_components= None, svd_solver = \"full\")\n",
    "pca.fit(StandardScaler().fit_transform(X_train))\n",
    "cum_var_exp = np.cumsum(pca.explained_variance_ratio_)\n",
    "plt.figure(figsize = (12,6))\n",
    "plt.bar(range(1,26), pca.explained_variance_ratio_, align = \"center\", color = 'red', \n",
    "        label = \"Individual Explained Variance\")\n",
    "plt.step(range(1,26), cum_var_exp, where = \"mid\", label = \"Cumulative explained variance\")\n",
    "plt.xticks(range(1, 26))\n",
    "plt.legend(loc = \"best\")\n",
    "plt.xlabel(\"Principal Component Index\", {\"fontsize\": 14})\n",
    "plt.ylabel(\"Explained Variance Ratio\", {\"fontsize\": 14})\n",
    "plt.title(\"PCA on Training Data\", {\"fontsize\": 16})"
   ]
  },
  {
   "cell_type": "code",
   "execution_count": 9,
   "metadata": {},
   "outputs": [
    {
     "name": "stdout",
     "output_type": "stream",
     "text": [
      "\u001b[1m\u001b[0mThe best hyperparameters for Original data:\n",
      "criterion :  gini\n",
      "max_features :  log2\n",
      "min_samples_leaf :  5\n",
      "n_estimators :  50\n",
      "\u001b[1m\u001b[94mBest 10-folds CV f1-score: 47.60%.\n",
      "\u001b[1m\u001b[0mThe best hyperparameters for Upsampled data:\n",
      "criterion :  entropy\n",
      "max_features :  sqrt\n",
      "min_samples_leaf :  1\n",
      "n_estimators :  100\n",
      "\u001b[1m\u001b[94mBest 10-folds CV f1-score: 98.45%.\n",
      "\u001b[1m\u001b[0mThe best hyperparameters for Downsampled data:\n",
      "criterion :  entropy\n",
      "max_features :  0.4\n",
      "min_samples_leaf :  5\n",
      "n_estimators :  50\n",
      "\u001b[1m\u001b[94mBest 10-folds CV f1-score: 75.23%.\n"
     ]
    }
   ],
   "source": [
    "from sklearn.pipeline import make_pipeline\n",
    "from sklearn.ensemble import RandomForestClassifier\n",
    "from sklearn.grid_search import GridSearchCV\n",
    "\n",
    "#random forest\n",
    "# Build random forest classifier\n",
    "methods_data = {\"Original\": (X_train, y_train),\n",
    "                \"Upsampled\": (X_train_u, y_train_u),\n",
    "                \"Downsampled\": (X_train_d, y_train_d)}\n",
    "for method in methods_data.keys():\n",
    "    pip_rf = make_pipeline(StandardScaler(),\n",
    "                           RandomForestClassifier(n_estimators=500,\n",
    "                                                  class_weight=\"balanced\",\n",
    "                                                  random_state=123))\n",
    "    \n",
    "    hyperparam_grid = {\n",
    "        \"randomforestclassifier__n_estimators\": [10, 50, 100, 500],\n",
    "        \"randomforestclassifier__max_features\": [\"sqrt\", \"log2\", 0.4, 0.5],\n",
    "        \"randomforestclassifier__min_samples_leaf\": [1, 3, 5],\n",
    "        \"randomforestclassifier__criterion\": [\"gini\", \"entropy\"]\n",
    "    }\n",
    "    \n",
    "    gs_rf = GridSearchCV(pip_rf,\n",
    "                         hyperparam_grid,\n",
    "                         scoring=\"f1\",\n",
    "                         cv=10,\n",
    "                         n_jobs=-1)\n",
    "    \n",
    "    gs_rf.fit(methods_data[method][0], methods_data[method][1])\n",
    "    \n",
    "    print(f\"\\033[1m\\033[0mThe best hyperparameters for {method} data:\")\n",
    "    for hyperparam in gs_rf.best_params_.keys():\n",
    "        print(hyperparam[hyperparam.find(\"__\") + 2:], \": \", gs_rf.best_params_[hyperparam])\n",
    "        \n",
    "    print(f\"\\033[1m\\033[94mBest 10-folds CV f1-score: {gs_rf.best_score_ * 100:.2f}%.\")"
   ]
  },
  {
   "cell_type": "markdown",
   "metadata": {},
   "source": [
    "* **The best hyperparameters for Original data:**\n",
    "criterion :  gini\n",
    "max_features :  log2\n",
    "min_samples_leaf :  5\n",
    "n_estimators :  50\n",
    "Best 10-folds CV f1-score: 47.60%.\n",
    "    \n",
    "* **The best hyperparameters for Upsampled data:**\n",
    "criterion :  entropy\n",
    "max_features :  sqrt\n",
    "min_samples_leaf :  1\n",
    "n_estimators :  100\n",
    "Best 10-folds CV f1-score: 98.45%.\n",
    "    \n",
    "* **The best hyperparameters for Downsampled data:**\n",
    "criterion :  entropy\n",
    "max_features :  0.4\n",
    "min_samples_leaf :  5\n",
    "n_estimators :  50\n",
    "Best 10-folds CV f1-score: 75.23%."
   ]
  },
  {
   "cell_type": "code",
   "execution_count": 10,
   "metadata": {},
   "outputs": [
    {
     "name": "stdout",
     "output_type": "stream",
     "text": [
      "(1972, 25) (1972,)\n",
      "[0.01466539 0.03243473 0.02016114 0.05396029 0.06736235 0.06232493\n",
      " 0.0452236  0.03268642 0.03144303 0.04149782 0.09772709 0.04440257\n",
      " 0.05125652 0.00712553 0.03218176 0.0445223  0.05966195 0.03476414\n",
      " 0.03018693 0.05097389 0.03884498 0.03697797 0.04112834 0.01470891\n",
      " 0.01377742]\n"
     ]
    },
    {
     "data": {
      "text/plain": [
       "array([[986,   0],\n",
       "       [  0, 986]])"
      ]
     },
     "execution_count": 10,
     "metadata": {},
     "output_type": "execute_result"
    }
   ],
   "source": [
    "print(X_train_u.shape, y_train_u.shape)\n",
    "rf = RandomForestClassifier(criterion=\"entropy\", max_features = \"sqrt\", min_samples_leaf = 1,\n",
    "                             n_estimators = 100,random_state=0)\n",
    "rf.fit(X_train_u, y_train_u)\n",
    "print(rf.feature_importances_)\n",
    "y_pred_u = rf.predict(X_train_u)\n",
    "confusion_matrix(y_train_u, y_pred_u)"
   ]
  },
  {
   "cell_type": "code",
   "execution_count": 11,
   "metadata": {},
   "outputs": [
    {
     "name": "stdout",
     "output_type": "stream",
     "text": [
      "[[235  12]\n",
      " [ 30  17]]\n"
     ]
    },
    {
     "data": {
      "text/plain": [
       "<matplotlib.axes._subplots.AxesSubplot at 0x10d023358>"
      ]
     },
     "execution_count": 11,
     "metadata": {},
     "output_type": "execute_result"
    },
    {
     "data": {
      "image/png": "[encoded data removed]",
      "text/plain": [
       "<matplotlib.figure.Figure at 0x10d023630>"
      ]
     },
     "metadata": {},
     "output_type": "display_data"
    }
   ],
   "source": [
    "y_pred = rf.predict(X_test)\n",
    "conf_arr = confusion_matrix(y_test, y_pred)\n",
    "print(conf_arr)\n",
    "\n",
    "df_cm = pd.DataFrame(conf_arr, index = [i for i in \"01\"],\n",
    "                  columns = [i for i in \"01\"])\n",
    "plt.figure(figsize = (7,5))\n",
    "sn.heatmap(df_cm, annot=True, fmt=\"d\", cmap=\"Blues\")"
   ]
  },
  {
   "cell_type": "code",
   "execution_count": 12,
   "metadata": {},
   "outputs": [
    {
     "name": "stdout",
     "output_type": "stream",
     "text": [
      "[0.       0.048583 1.      ]\n",
      "[0.         0.36170213 1.        ]\n",
      "[2 1 0]\n",
      "0.6565595658540787\n"
     ]
    },
    {
     "data": {
      "image/png": "[encoded data removed]",
      "text/plain": [
       "<matplotlib.figure.Figure at 0x10d0c4b00>"
      ]
     },
     "metadata": {},
     "output_type": "display_data"
    }
   ],
   "source": [
    "# Compute ROC curve and ROC area for each class\n",
    "fpr, tpr, thresholds = roc_curve(y_test, y_pred)\n",
    "roc_auc = auc(fpr, tpr)\n",
    "print(fpr)\n",
    "print(tpr)\n",
    "print(thresholds)\n",
    "print(roc_auc)\n",
    "plt.title('Receiver Operating Characteristic')\n",
    "plt.plot(fpr, tpr, 'b', label = 'AUC = %0.2f' % roc_auc)\n",
    "plt.legend(loc = 'lower right')\n",
    "plt.plot([0, 1], [0, 1],'r--')\n",
    "plt.xlim([0, 1])\n",
    "plt.ylim([0, 1])\n",
    "plt.ylabel('True Positive Rate')\n",
    "plt.xlabel('False Positive Rate')\n",
    "plt.show()"
   ]
  },
  {
   "cell_type": "code",
   "execution_count": 13,
   "metadata": {},
   "outputs": [
    {
     "name": "stdout",
     "output_type": "stream",
     "text": [
      "\u001b[1m\u001b[0mThe best hyperparameters:\n",
      "-------------------------\n",
      "learning_rate :  0.1\n",
      "max_depth :  3\n",
      "max_features :  0.5\n",
      "n_estimators :  500\n",
      "\u001b[1m\u001b[94mBest 10-folds CV f1-score: 95.67%.\n"
     ]
    }
   ],
   "source": [
    "pip_gb = make_pipeline(StandardScaler(),\n",
    "                       GradientBoostingClassifier(loss=\"deviance\",\n",
    "                                                  random_state=123))\n",
    "hyperparam_grid = {\"gradientboostingclassifier__max_features\": [\"log2\", 0.5],\n",
    "                   \"gradientboostingclassifier__n_estimators\": [100, 300, 500],\n",
    "                   \"gradientboostingclassifier__learning_rate\": [0.001, 0.01, 0.1],\n",
    "                   \"gradientboostingclassifier__max_depth\": [1, 2, 3]}\n",
    "gs_gb = GridSearchCV(pip_gb,\n",
    "                      param_grid=hyperparam_grid,\n",
    "                      scoring=\"f1\",\n",
    "                      cv=10,\n",
    "                      n_jobs=-1)\n",
    "gs_gb.fit(X_train_u, y_train_u)\n",
    "print(f\"\\033[1m\\033[0mThe best hyperparameters:\\n{'-' * 25}\")\n",
    "for hyperparam in gs_gb.best_params_.keys():\n",
    "    print(hyperparam[hyperparam.find(\"__\") + 2:], \": \", gs_gb.best_params_[hyperparam])\n",
    "print(f\"\\033[1m\\033[94mBest 10-folds CV f1-score: {gs_gb.best_score_ * 100:.2f}%.\")"
   ]
  },
  {
   "cell_type": "code",
   "execution_count": 14,
   "metadata": {},
   "outputs": [
    {
     "name": "stdout",
     "output_type": "stream",
     "text": [
      "[0.01936017 0.01751402 0.01697159 0.01969244 0.10924454 0.06496986\n",
      " 0.03441455 0.03320979 0.01950021 0.03225462 0.16891652 0.04510744\n",
      " 0.06003052 0.00186257 0.03007108 0.03358436 0.0467935  0.04979396\n",
      " 0.02486241 0.05412623 0.03551136 0.02219807 0.04073072 0.01083801\n",
      " 0.00844147]\n",
      "[[221  26]\n",
      " [ 16  31]]\n"
     ]
    },
    {
     "data": {
      "text/plain": [
       "<matplotlib.axes._subplots.AxesSubplot at 0x10d204198>"
      ]
     },
     "execution_count": 14,
     "metadata": {},
     "output_type": "execute_result"
    },
    {
     "data": {
      "image/png": "[encoded data removed]",
      "text/plain": [
       "<matplotlib.figure.Figure at 0x10d0236d8>"
      ]
     },
     "metadata": {},
     "output_type": "display_data"
    }
   ],
   "source": [
    "gb = GradientBoostingClassifier(learning_rate = 0.1, max_depth = 3, max_features = 0.5,\n",
    "                             n_estimators = 500)\n",
    "gb.fit(X_train_u, y_train_u)\n",
    "print(gb.feature_importances_)\n",
    "y_pred_u = gb.predict(X_train_u)\n",
    "confusion_matrix(y_train_u, y_pred_u)\n",
    "\n",
    "y_pred = gb.predict(X_test)\n",
    "conf_arr = confusion_matrix(y_test, y_pred)\n",
    "print(conf_arr)\n",
    "\n",
    "df_cm = pd.DataFrame(conf_arr, index = [i for i in \"01\"],\n",
    "                  columns = [i for i in \"01\"])\n",
    "plt.figure(figsize = (7,5))\n",
    "sn.heatmap(df_cm, annot=True, fmt=\"d\", cmap=\"Blues\")"
   ]
  },
  {
   "cell_type": "code",
   "execution_count": 15,
   "metadata": {},
   "outputs": [
    {
     "name": "stdout",
     "output_type": "stream",
     "text": [
      "[0.         0.10526316 1.        ]\n",
      "[0.         0.65957447 1.        ]\n",
      "[2 1 0]\n",
      "0.7771556550951847\n"
     ]
    },
    {
     "data": {
      "image/png": "[encoded data removed]",
      "text/plain": [
       "<matplotlib.figure.Figure at 0x10d22b470>"
      ]
     },
     "metadata": {},
     "output_type": "display_data"
    }
   ],
   "source": [
    "# Compute ROC curve and ROC area for each class\n",
    "fpr, tpr, thresholds = roc_curve(y_test, y_pred)\n",
    "roc_auc = auc(fpr, tpr)\n",
    "print(fpr)\n",
    "print(tpr)\n",
    "print(thresholds)\n",
    "print(roc_auc)\n",
    "plt.title('Receiver Operating Characteristic')\n",
    "plt.plot(fpr, tpr, 'b', label = 'AUC = %0.2f' % roc_auc)\n",
    "plt.legend(loc = 'lower right')\n",
    "plt.plot([0, 1], [0, 1],'r--')\n",
    "plt.xlim([0, 1])\n",
    "plt.ylim([0, 1])\n",
    "plt.ylabel('True Positive Rate')\n",
    "plt.xlabel('False Positive Rate')\n",
    "plt.show()"
   ]
  },
  {
   "cell_type": "code",
   "execution_count": 16,
   "metadata": {},
   "outputs": [
    {
     "name": "stdout",
     "output_type": "stream",
     "text": [
      "\u001b[1m\u001b[94mThe 10-folds CV f1-score is: 43.64%\n"
     ]
    }
   ],
   "source": [
    "#Support Vector Machine\n",
    "clf_svc = make_pipeline(StandardScaler(),\n",
    "                        SVC(C=0.01,\n",
    "                            gamma=0.1,\n",
    "                            kernel=\"poly\",\n",
    "                            degree=5,\n",
    "                            coef0=10,\n",
    "                            probability=True))\n",
    "clf_svc.fit(X_train, y_train)\n",
    "svc_cv_scores = cross_val_score(clf_svc,\n",
    "                                X=X_train,\n",
    "                                y=y_train,\n",
    "                                scoring=\"f1\",\n",
    "                                cv=10,\n",
    "                                n_jobs=-1)\n",
    "# Print CV\n",
    "print(f\"\\033[1m\\033[94mThe 10-folds CV f1-score is: {np.mean(svc_cv_scores) * 100:.2f}%\")"
   ]
  },
  {
   "cell_type": "code",
   "execution_count": 17,
   "metadata": {},
   "outputs": [
    {
     "name": "stdout",
     "output_type": "stream",
     "text": [
      "\u001b[1m\u001b[0mThe best hyperparameters:\n",
      "-------------------------\n",
      "n_neighbors :  1\n",
      "weights :  uniform\n",
      "\u001b[1m\u001b[94mBest 10-folds CV f1-score: 95.63%.\n"
     ]
    }
   ],
   "source": [
    "# KNN classifier\n",
    "from sklearn.neighbors import KNeighborsClassifier\n",
    "pip_knn = make_pipeline(StandardScaler(), KNeighborsClassifier())\n",
    "hyperparam_range = range(1, 20)\n",
    "gs_knn = GridSearchCV(pip_knn,\n",
    "                      param_grid={\"kneighborsclassifier__n_neighbors\": list(range(1,20)),\n",
    "                                  \"kneighborsclassifier__weights\": [\"uniform\", \"distance\"]},\n",
    "                      scoring=\"f1\",\n",
    "                      cv=10,\n",
    "                      n_jobs=-1)\n",
    "gs_knn.fit(X_train_u, y_train_u)\n",
    "print(f\"\\033[1m\\033[0mThe best hyperparameters:\\n{'-' * 25}\")\n",
    "for hyperparam in gs_knn.best_params_.keys():\n",
    "    print(hyperparam[hyperparam.find(\"__\") + 2:], \": \", gs_knn.best_params_[hyperparam])\n",
    "print(\"\\033[1m\" + \"\\033[94m\" + \"Best 10-folds CV f1-score: {:.2f}%.\".format((gs_knn.best_score_) * 100))"
   ]
  },
  {
   "cell_type": "code",
   "execution_count": 18,
   "metadata": {},
   "outputs": [
    {
     "name": "stdout",
     "output_type": "stream",
     "text": [
      "[[211  36]\n",
      " [ 41   6]]\n"
     ]
    },
    {
     "data": {
      "text/plain": [
       "<matplotlib.axes._subplots.AxesSubplot at 0x10bd59c88>"
      ]
     },
     "execution_count": 18,
     "metadata": {},
     "output_type": "execute_result"
    },
    {
     "data": {
      "image/png": "[encoded data removed]",
      "text/plain": [
       "<matplotlib.figure.Figure at 0x10be59f98>"
      ]
     },
     "metadata": {},
     "output_type": "display_data"
    }
   ],
   "source": [
    "knn = KNeighborsClassifier(n_neighbors = 1, weights = 'uniform', algorithm = 'auto')\n",
    "knn.fit(X_train_u, y_train_u)\n",
    "\n",
    "y_pred_u = knn.predict(X_train_u)\n",
    "confusion_matrix(y_train_u, y_pred_u)\n",
    "\n",
    "y_pred = knn.predict(X_test)\n",
    "conf_arr = confusion_matrix(y_test, y_pred)\n",
    "print(conf_arr)\n",
    "\n",
    "df_cm = pd.DataFrame(conf_arr, index = [i for i in \"01\"],\n",
    "                  columns = [i for i in \"01\"])\n",
    "plt.figure(figsize = (7,5))\n",
    "sn.heatmap(df_cm, annot=True, fmt=\"d\", cmap=\"Blues\")"
   ]
  },
  {
   "cell_type": "code",
   "execution_count": 19,
   "metadata": {},
   "outputs": [
    {
     "name": "stdout",
     "output_type": "stream",
     "text": [
      "[0.         0.14574899 1.        ]\n",
      "[0.         0.12765957 1.        ]\n",
      "[2 1 0]\n",
      "0.490955293306917\n"
     ]
    },
    {
     "data": {
      "image/png": "[encoded data removed]",
      "text/plain": [
       "<matplotlib.figure.Figure at 0x10d3f07b8>"
      ]
     },
     "metadata": {},
     "output_type": "display_data"
    }
   ],
   "source": [
    "# Compute ROC curve and ROC area for each class\n",
    "fpr, tpr, thresholds = roc_curve(y_test, y_pred)\n",
    "roc_auc = auc(fpr, tpr)\n",
    "print(fpr)\n",
    "print(tpr)\n",
    "print(thresholds)\n",
    "print(roc_auc)\n",
    "plt.title('Receiver Operating Characteristic')\n",
    "plt.plot(fpr, tpr, 'b', label = 'AUC = %0.2f' % roc_auc)\n",
    "plt.legend(loc = 'lower right')\n",
    "plt.plot([0, 1], [0, 1],'r--')\n",
    "plt.xlim([0, 1])\n",
    "plt.ylim([0, 1])\n",
    "plt.ylabel('True Positive Rate')\n",
    "plt.xlabel('False Positive Rate')\n",
    "plt.show()"
   ]
  },
  {
   "cell_type": "code",
   "execution_count": 20,
   "metadata": {},
   "outputs": [
    {
     "name": "stdout",
     "output_type": "stream",
     "text": [
      "\u001b[1m\u001b[0mThe best hyperparameters:\n",
      "-------------------------\n",
      "C :  0.5\n",
      "fit_intercept :  True\n",
      "penalty :  l1\n",
      "\u001b[1m\u001b[94mBest 10-folds CV f1-score: 75.81%.\n"
     ]
    }
   ],
   "source": [
    "# Logistic Regression\n",
    "pip_logmod = make_pipeline(StandardScaler(),\n",
    "                           LogisticRegression(class_weight=\"balanced\"))\n",
    "hyperparam_range = np.arange(0.5, 20.1, 0.5)\n",
    "hyperparam_grid = {\"logisticregression__penalty\": [\"l1\", \"l2\"],\n",
    "                   \"logisticregression__C\":  hyperparam_range,\n",
    "                   \"logisticregression__fit_intercept\": [True, False]\n",
    "                  }\n",
    "gs_logmodel = GridSearchCV(pip_logmod,\n",
    "                           hyperparam_grid,\n",
    "                           scoring=\"accuracy\",\n",
    "                           cv=2,\n",
    "                           n_jobs=-1)\n",
    "gs_logmodel.fit(X_train_u, y_train_u)\n",
    "print(f\"\\033[1m\\033[0mThe best hyperparameters:\\n{'-' * 25}\")\n",
    "for hyperparam in gs_logmodel.best_params_.keys():\n",
    "    print(hyperparam[hyperparam.find(\"__\") + 2:], \": \", gs_logmodel.best_params_[hyperparam])\n",
    "print(f\"\\033[1m\\033[94mBest 10-folds CV f1-score: {gs_logmodel.best_score_ * 100:.2f}%.\")"
   ]
  },
  {
   "cell_type": "code",
   "execution_count": 21,
   "metadata": {},
   "outputs": [
    {
     "name": "stdout",
     "output_type": "stream",
     "text": [
      "[[180  67]\n",
      " [  8  39]]\n"
     ]
    },
    {
     "data": {
      "text/plain": [
       "<matplotlib.axes._subplots.AxesSubplot at 0x1051b1978>"
      ]
     },
     "execution_count": 21,
     "metadata": {},
     "output_type": "execute_result"
    },
    {
     "data": {
      "image/png": "[encoded data removed]",
      "text/plain": [
       "<matplotlib.figure.Figure at 0x10d023240>"
      ]
     },
     "metadata": {},
     "output_type": "display_data"
    }
   ],
   "source": [
    "lr = LogisticRegression(C = 0.5, fit_intercept = True, penalty = 'l1')\n",
    "lr.fit(X_train_u, y_train_u)\n",
    "\n",
    "y_pred_u = lr.predict(X_train_u)\n",
    "confusion_matrix(y_train_u, y_pred_u)\n",
    "\n",
    "y_pred = lr.predict(X_test)\n",
    "conf_arr = confusion_matrix(y_test, y_pred)\n",
    "print(conf_arr)\n",
    "\n",
    "df_cm = pd.DataFrame(conf_arr, index = [i for i in \"01\"],\n",
    "                  columns = [i for i in \"01\"])\n",
    "plt.figure(figsize = (7,5))\n",
    "sn.heatmap(df_cm, annot=True, fmt=\"d\", cmap=\"Blues\")"
   ]
  },
  {
   "cell_type": "code",
   "execution_count": 22,
   "metadata": {},
   "outputs": [
    {
     "name": "stdout",
     "output_type": "stream",
     "text": [
      "[0.         0.27125506 1.        ]\n",
      "[0.         0.82978723 1.        ]\n",
      "[2 1 0]\n",
      "0.7792660866569041\n"
     ]
    },
    {
     "data": {
      "image/png": "[encoded data removed]",
      "text/plain": [
       "<matplotlib.figure.Figure at 0x10d482898>"
      ]
     },
     "metadata": {},
     "output_type": "display_data"
    }
   ],
   "source": [
    "fpr, tpr, thresholds = roc_curve(y_test, y_pred)\n",
    "roc_auc = auc(fpr, tpr)\n",
    "print(fpr)\n",
    "print(tpr)\n",
    "print(thresholds)\n",
    "print(roc_auc)\n",
    "plt.title('Receiver Operating Characteristic')\n",
    "plt.plot(fpr, tpr, 'b', label = 'AUC = %0.2f' % roc_auc)\n",
    "plt.legend(loc = 'lower right')\n",
    "plt.plot([0, 1], [0, 1],'r--')\n",
    "plt.xlim([0, 1])\n",
    "plt.ylim([0, 1])\n",
    "plt.ylabel('True Positive Rate')\n",
    "plt.xlabel('False Positive Rate')\n",
    "plt.show()"
   ]
  },
  {
   "cell_type": "code",
   "execution_count": null,
   "metadata": {
    "collapsed": true
   },
   "outputs": [],
   "source": []
  }
 ],
 "metadata": {
  "kernelspec": {
   "display_name": "Python 3",
   "language": "python",
   "name": "python3"
  },
  "language_info": {
   "codemirror_mode": {
    "name": "ipython",
    "version": 3
   },
   "file_extension": ".py",
   "mimetype": "text/x-python",
   "name": "python",
   "nbconvert_exporter": "python",
   "pygments_lexer": "ipython3",
   "version": "3.6.3"
  }
 },
 "nbformat": 4,
 "nbformat_minor": 2
}
